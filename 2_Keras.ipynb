{
  "nbformat": 4,
  "nbformat_minor": 0,
  "metadata": {
    "colab": {
      "name": "2_Keras.ipynb",
      "provenance": [],
      "authorship_tag": "ABX9TyPoM2ChRiYKodcW0I3O/iya",
      "include_colab_link": true
    },
    "kernelspec": {
      "name": "python3",
      "display_name": "Python 3"
    },
    "language_info": {
      "name": "python"
    }
  },
  "cells": [
    {
      "cell_type": "markdown",
      "metadata": {
        "id": "view-in-github",
        "colab_type": "text"
      },
      "source": [
        "<a href=\"https://colab.research.google.com/github/racoonjonny/Tensorflow_study/blob/main/2_Keras.ipynb\" target=\"_parent\"><img src=\"https://colab.research.google.com/assets/colab-badge.svg\" alt=\"Open In Colab\"/></a>"
      ]
    },
    {
      "cell_type": "code",
      "metadata": {
        "id": "NJabYLsM1GzB"
      },
      "source": [
        "# Tensorflow는 이름이 나타내고 있는 것 처럼 텐서를 흘려 보내면서 딥러닝 알고리즘을 수행하는 라이브러리입니다.\n",
        "# 현재 머신러닝/딥러닝 분야 라이브러리 중 전 세계에서 가장 많이 사용됨\n",
        "# Tensorflow와 Keras가 tensorflow 2.0에서 결합되면서 더욱 편하게 사용할 수 있게 되었음.\n",
        "\n",
        "# 주요한 특징 두 가지가 있음\n",
        "# 1. Eager Execution\n",
        "# 2. Keras 만을 High-level API로 공식 지원 함.\n",
        "\n",
        "# Keras 창시자도 tensorflow 내에서 keras를 사용할 것을 권장함"
      ],
      "execution_count": 2,
      "outputs": []
    },
    {
      "cell_type": "code",
      "metadata": {
        "id": "qXrJpyZj1wdi"
      },
      "source": [
        "# Keras \n",
        "\n",
        "# Model : 모델은 각 층을 포함하고 있는 인공 신경망 자체를 나타낸다.\n",
        "# 모델의 기본 단위는 층 (layer)이며, 이러한 층을 쌓아가면서 ANN, CNN, RNN 등을 손쉽게 구축할 수 있음\n",
        "# 모델이 구축되면 손실함수 값이 최소가 될 때 까지 학습을 진행하는 것도 쉽게 가능."
      ],
      "execution_count": 3,
      "outputs": []
    },
    {
      "cell_type": "code",
      "metadata": {
        "id": "J2MmHsYP2deg"
      },
      "source": [
        "# Keras로 모델을 만들고 학습하는 과정\n",
        "\n",
        "# 1. 데이터 생성\n",
        "\n",
        "# 2. 모델 구축           ex> model = sequential(),  model.add(...)\n",
        "\n",
        "# 3. 모델 컴파일         ex> model.compile(....)\n",
        "\n",
        "# 4. 모델 학습           ex> model.fit(....)\n",
        "\n",
        "# 5. 모델 평가 및 예측   ex> model.evaluate(..),   model.predict(...)\n",
        "\n",
        "# 6. 모델 저장           ex> model.save(...)"
      ],
      "execution_count": 4,
      "outputs": []
    },
    {
      "cell_type": "code",
      "metadata": {
        "colab": {
          "base_uri": "https://localhost:8080/"
        },
        "id": "VLF2ZQRW5I1v",
        "outputId": "2f000ebf-e9d7-412c-f8be-76343e4331b1"
      },
      "source": [
        "# 간단한 선형회귀 모델 실습\n",
        "import tensorflow as tf\n",
        "\n",
        "from tensorflow.keras.models import Sequential\n",
        "from tensorflow.keras.layers import Flatten, Dense\n",
        "from tensorflow.keras.optimizers import SGD\n",
        "\n",
        "import numpy as np\n",
        "\n",
        "print(tf.__version__)"
      ],
      "execution_count": 5,
      "outputs": [
        {
          "output_type": "stream",
          "text": [
            "2.5.0\n"
          ],
          "name": "stdout"
        }
      ]
    },
    {
      "cell_type": "code",
      "metadata": {
        "colab": {
          "base_uri": "https://localhost:8080/"
        },
        "id": "65yy_waf5cIi",
        "outputId": "56ef58a1-f0d0-4f52-902f-6bd186f4053d"
      },
      "source": [
        "x_data = np.array([1,2,3,4,5,6])\n",
        "t_data = np.array([3,4,5,6,7,8])\n",
        "\n",
        "model = Sequential() # 모델 선언\n",
        "\n",
        "model.add(Flatten(input_shape = (1,))) # Input layer\n",
        "\n",
        "model.add(Dense(1, activation = 'linear')) # output layer\n",
        "\n",
        "model.compile(optimizer = SGD(learning_rate= 1e-2), loss = 'mse')\n",
        "\n",
        "model.summary()\n"
      ],
      "execution_count": 6,
      "outputs": [
        {
          "output_type": "stream",
          "text": [
            "Model: \"sequential\"\n",
            "_________________________________________________________________\n",
            "Layer (type)                 Output Shape              Param #   \n",
            "=================================================================\n",
            "flatten (Flatten)            (None, 1)                 0         \n",
            "_________________________________________________________________\n",
            "dense (Dense)                (None, 1)                 2         \n",
            "=================================================================\n",
            "Total params: 2\n",
            "Trainable params: 2\n",
            "Non-trainable params: 0\n",
            "_________________________________________________________________\n"
          ],
          "name": "stdout"
        }
      ]
    },
    {
      "cell_type": "code",
      "metadata": {
        "id": "XbrLMHT55x9o"
      },
      "source": [
        "hist = model.fit(x_data, t_data, epochs = 1000)"
      ],
      "execution_count": null,
      "outputs": []
    },
    {
      "cell_type": "code",
      "metadata": {
        "colab": {
          "base_uri": "https://localhost:8080/"
        },
        "id": "i0ntt5iV6K_8",
        "outputId": "35b80362-0dbd-48b9-fb17-ca66dbda2d53"
      },
      "source": [
        "# 의도한 대로 모델은 입력 값에 약 2.0을 더해서 출력을 만드는 것을 볼 수 있다.\n",
        "result = model.predict(np.array([-10.0, -7.2, 0.0, 13.2]))\n",
        "\n",
        "print(result)"
      ],
      "execution_count": 8,
      "outputs": [
        {
          "output_type": "stream",
          "text": [
            "[[-8.144057 ]\n",
            " [-5.315813 ]\n",
            " [ 1.9568148]\n",
            " [15.289967 ]]\n"
          ],
          "name": "stdout"
        }
      ]
    },
    {
      "cell_type": "code",
      "metadata": {
        "id": "dDAiHP0w6Tb4"
      },
      "source": [
        ""
      ],
      "execution_count": null,
      "outputs": []
    }
  ]
}