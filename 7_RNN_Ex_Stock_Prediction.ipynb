{
  "nbformat": 4,
  "nbformat_minor": 0,
  "metadata": {
    "colab": {
      "name": "7_RNN_Ex_Stock_Prediction.ipynb",
      "provenance": [],
      "authorship_tag": "ABX9TyOp4E5PH+iBmSH8sTb4Bgvv",
      "include_colab_link": true
    },
    "kernelspec": {
      "name": "python3",
      "display_name": "Python 3"
    },
    "language_info": {
      "name": "python"
    }
  },
  "cells": [
    {
      "cell_type": "markdown",
      "metadata": {
        "id": "view-in-github",
        "colab_type": "text"
      },
      "source": [
        "<a href=\"https://colab.research.google.com/github/racoonjonny/Tensorflow_study/blob/main/7_RNN_Ex_Stock_Prediction.ipynb\" target=\"_parent\"><img src=\"https://colab.research.google.com/assets/colab-badge.svg\" alt=\"Open In Colab\"/></a>"
      ]
    },
    {
      "cell_type": "code",
      "metadata": {
        "id": "xVvRhaETVZ26"
      },
      "source": [
        "# RNN을 이용한 삼성 전자 주가 예측 모델 생성.\n",
        "\n",
        "# 1. 데이터 로드 및 분포 확인\n",
        "\n",
        "# 2. 데이터 전처리\n",
        " \n",
        "# 3. 데이터 생성\n",
        "\n",
        "# 4. 순환신경망 모델 구축 및 학습"
      ],
      "execution_count": 1,
      "outputs": []
    },
    {
      "cell_type": "code",
      "metadata": {
        "colab": {
          "base_uri": "https://localhost:8080/",
          "height": 203
        },
        "id": "MwhVBANaWYnX",
        "outputId": "ee59c2ff-bace-4130-a3aa-664fdc06a027"
      },
      "source": [
        "# 1-1 데이터 로드\n",
        "import tensorflow as tf\n",
        "import numpy as np\n",
        "import pandas as pd\n",
        "import matplotlib.pyplot as plt\n",
        "from tensorflow.keras.models import Sequential\n",
        "from tensorflow.keras.layers import LSTM, Dense, Dropout\n",
        "\n",
        "raw_df = pd.read_csv('./005930.KS.csv')\n",
        "\n",
        "raw_df.head()"
      ],
      "execution_count": 2,
      "outputs": [
        {
          "output_type": "execute_result",
          "data": {
            "text/html": [
              "<div>\n",
              "<style scoped>\n",
              "    .dataframe tbody tr th:only-of-type {\n",
              "        vertical-align: middle;\n",
              "    }\n",
              "\n",
              "    .dataframe tbody tr th {\n",
              "        vertical-align: top;\n",
              "    }\n",
              "\n",
              "    .dataframe thead th {\n",
              "        text-align: right;\n",
              "    }\n",
              "</style>\n",
              "<table border=\"1\" class=\"dataframe\">\n",
              "  <thead>\n",
              "    <tr style=\"text-align: right;\">\n",
              "      <th></th>\n",
              "      <th>Date</th>\n",
              "      <th>Open</th>\n",
              "      <th>High</th>\n",
              "      <th>Low</th>\n",
              "      <th>Close</th>\n",
              "      <th>Adj Close</th>\n",
              "      <th>Volume</th>\n",
              "      <th>3MA</th>\n",
              "      <th>5MA</th>\n",
              "    </tr>\n",
              "  </thead>\n",
              "  <tbody>\n",
              "    <tr>\n",
              "      <th>0</th>\n",
              "      <td>2000-01-04</td>\n",
              "      <td>6000.0</td>\n",
              "      <td>6110.0</td>\n",
              "      <td>5660.0</td>\n",
              "      <td>6110.0</td>\n",
              "      <td>4740.119629</td>\n",
              "      <td>74195000.0</td>\n",
              "      <td>NaN</td>\n",
              "      <td>NaN</td>\n",
              "    </tr>\n",
              "    <tr>\n",
              "      <th>1</th>\n",
              "      <td>2000-01-05</td>\n",
              "      <td>5800.0</td>\n",
              "      <td>6060.0</td>\n",
              "      <td>5520.0</td>\n",
              "      <td>5580.0</td>\n",
              "      <td>4328.947754</td>\n",
              "      <td>74680000.0</td>\n",
              "      <td>NaN</td>\n",
              "      <td>NaN</td>\n",
              "    </tr>\n",
              "    <tr>\n",
              "      <th>2</th>\n",
              "      <td>2000-01-06</td>\n",
              "      <td>5750.0</td>\n",
              "      <td>5780.0</td>\n",
              "      <td>5580.0</td>\n",
              "      <td>5620.0</td>\n",
              "      <td>4359.979492</td>\n",
              "      <td>54390000.0</td>\n",
              "      <td>4476.348958</td>\n",
              "      <td>NaN</td>\n",
              "    </tr>\n",
              "    <tr>\n",
              "      <th>3</th>\n",
              "      <td>2000-01-07</td>\n",
              "      <td>5560.0</td>\n",
              "      <td>5670.0</td>\n",
              "      <td>5360.0</td>\n",
              "      <td>5540.0</td>\n",
              "      <td>4297.916992</td>\n",
              "      <td>40305000.0</td>\n",
              "      <td>4328.948079</td>\n",
              "      <td>NaN</td>\n",
              "    </tr>\n",
              "    <tr>\n",
              "      <th>4</th>\n",
              "      <td>2000-01-10</td>\n",
              "      <td>5600.0</td>\n",
              "      <td>5770.0</td>\n",
              "      <td>5580.0</td>\n",
              "      <td>5770.0</td>\n",
              "      <td>4476.349121</td>\n",
              "      <td>46880000.0</td>\n",
              "      <td>4378.081868</td>\n",
              "      <td>4440.662598</td>\n",
              "    </tr>\n",
              "  </tbody>\n",
              "</table>\n",
              "</div>"
            ],
            "text/plain": [
              "         Date    Open    High  ...      Volume          3MA          5MA\n",
              "0  2000-01-04  6000.0  6110.0  ...  74195000.0          NaN          NaN\n",
              "1  2000-01-05  5800.0  6060.0  ...  74680000.0          NaN          NaN\n",
              "2  2000-01-06  5750.0  5780.0  ...  54390000.0  4476.348958          NaN\n",
              "3  2000-01-07  5560.0  5670.0  ...  40305000.0  4328.948079          NaN\n",
              "4  2000-01-10  5600.0  5770.0  ...  46880000.0  4378.081868  4440.662598\n",
              "\n",
              "[5 rows x 9 columns]"
            ]
          },
          "metadata": {
            "tags": []
          },
          "execution_count": 2
        }
      ]
    },
    {
      "cell_type": "code",
      "metadata": {
        "colab": {
          "base_uri": "https://localhost:8080/",
          "height": 295
        },
        "id": "sLIeKUYGWsIU",
        "outputId": "b169cffc-3f4c-461e-e04b-fcef557e39ac"
      },
      "source": [
        "# 1-2.데이터 분포 확인\n",
        "plt.figure(figsize = (7,4))\n",
        "plt.title('SAMSUNG ELECTRONIC STOCK PRICE')\n",
        "plt.ylabel('price (won)')\n",
        "plt.xlabel('period (day)')\n",
        "plt.grid()\n",
        "\n",
        "plt.plot(raw_df['Adj Close'], label = 'Adj Close', color = 'b')\n",
        "plt.legend(loc = 'best')\n",
        "\n",
        "plt.show()"
      ],
      "execution_count": 3,
      "outputs": [
        {
          "output_type": "display_data",
          "data": {
            "image/png": "[encoded data removed]",
            "text/plain": [
              "<Figure size 504x288 with 1 Axes>"
            ]
          },
          "metadata": {
            "tags": [],
            "needs_background": "light"
          }
        }
      ]
    },
    {
      "cell_type": "code",
      "metadata": {
        "colab": {
          "base_uri": "https://localhost:8080/",
          "height": 295
        },
        "id": "IesMdBbiW8eM",
        "outputId": "229f8b07-7be9-4892-dcba-fd4a1a7cad2b"
      },
      "source": [
        "# 2. 데이터 전처리\n",
        "\n",
        "# 2-1 outlier 확인.\n",
        "# 통계쩍으로 비정상적으로 크거나 작은 데이터인 outlier는 딥러닝 학습을 하기 위해서 적절한 값으로 바꾸거나 삭제하는 등의 처리가 반드시 필요함.\n",
        "\n",
        "raw_df.describe()"
      ],
      "execution_count": 4,
      "outputs": [
        {
          "output_type": "execute_result",
          "data": {
            "text/html": [
              "<div>\n",
              "<style scoped>\n",
              "    .dataframe tbody tr th:only-of-type {\n",
              "        vertical-align: middle;\n",
              "    }\n",
              "\n",
              "    .dataframe tbody tr th {\n",
              "        vertical-align: top;\n",
              "    }\n",
              "\n",
              "    .dataframe thead th {\n",
              "        text-align: right;\n",
              "    }\n",
              "</style>\n",
              "<table border=\"1\" class=\"dataframe\">\n",
              "  <thead>\n",
              "    <tr style=\"text-align: right;\">\n",
              "      <th></th>\n",
              "      <th>Open</th>\n",
              "      <th>High</th>\n",
              "      <th>Low</th>\n",
              "      <th>Close</th>\n",
              "      <th>Adj Close</th>\n",
              "      <th>Volume</th>\n",
              "      <th>3MA</th>\n",
              "      <th>5MA</th>\n",
              "    </tr>\n",
              "  </thead>\n",
              "  <tbody>\n",
              "    <tr>\n",
              "      <th>count</th>\n",
              "      <td>5414.000000</td>\n",
              "      <td>5414.000000</td>\n",
              "      <td>5414.000000</td>\n",
              "      <td>5414.000000</td>\n",
              "      <td>5414.000000</td>\n",
              "      <td>5.414000e+03</td>\n",
              "      <td>5418.000000</td>\n",
              "      <td>5416.000000</td>\n",
              "    </tr>\n",
              "    <tr>\n",
              "      <th>mean</th>\n",
              "      <td>23066.858146</td>\n",
              "      <td>23309.303657</td>\n",
              "      <td>22823.529738</td>\n",
              "      <td>23066.603251</td>\n",
              "      <td>20198.046134</td>\n",
              "      <td>2.203700e+07</td>\n",
              "      <td>20212.176960</td>\n",
              "      <td>20204.083077</td>\n",
              "    </tr>\n",
              "    <tr>\n",
              "      <th>std</th>\n",
              "      <td>18117.963534</td>\n",
              "      <td>18285.327998</td>\n",
              "      <td>17955.779317</td>\n",
              "      <td>18114.251221</td>\n",
              "      <td>17758.196440</td>\n",
              "      <td>1.561772e+07</td>\n",
              "      <td>17749.315590</td>\n",
              "      <td>17730.952088</td>\n",
              "    </tr>\n",
              "    <tr>\n",
              "      <th>min</th>\n",
              "      <td>2540.000000</td>\n",
              "      <td>2760.000000</td>\n",
              "      <td>2420.000000</td>\n",
              "      <td>2730.000000</td>\n",
              "      <td>2117.926025</td>\n",
              "      <td>0.000000e+00</td>\n",
              "      <td>2164.473877</td>\n",
              "      <td>2179.989746</td>\n",
              "    </tr>\n",
              "    <tr>\n",
              "      <th>25%</th>\n",
              "      <td>9920.000000</td>\n",
              "      <td>10020.000000</td>\n",
              "      <td>9820.000000</td>\n",
              "      <td>9920.000000</td>\n",
              "      <td>7752.151367</td>\n",
              "      <td>1.183885e+07</td>\n",
              "      <td>7740.515950</td>\n",
              "      <td>7732.563330</td>\n",
              "    </tr>\n",
              "    <tr>\n",
              "      <th>50%</th>\n",
              "      <td>15850.000000</td>\n",
              "      <td>16000.000000</td>\n",
              "      <td>15680.000000</td>\n",
              "      <td>15890.000000</td>\n",
              "      <td>12909.491700</td>\n",
              "      <td>1.799813e+07</td>\n",
              "      <td>12917.547525</td>\n",
              "      <td>12902.487405</td>\n",
              "    </tr>\n",
              "    <tr>\n",
              "      <th>75%</th>\n",
              "      <td>29435.000000</td>\n",
              "      <td>29740.000000</td>\n",
              "      <td>29175.000000</td>\n",
              "      <td>29430.000000</td>\n",
              "      <td>24673.033200</td>\n",
              "      <td>2.766808e+07</td>\n",
              "      <td>24689.639320</td>\n",
              "      <td>24705.820705</td>\n",
              "    </tr>\n",
              "    <tr>\n",
              "      <th>max</th>\n",
              "      <td>90300.000000</td>\n",
              "      <td>96800.000000</td>\n",
              "      <td>89500.000000</td>\n",
              "      <td>91000.000000</td>\n",
              "      <td>90597.414060</td>\n",
              "      <td>1.642150e+08</td>\n",
              "      <td>90033.252600</td>\n",
              "      <td>89562.014060</td>\n",
              "    </tr>\n",
              "  </tbody>\n",
              "</table>\n",
              "</div>"
            ],
            "text/plain": [
              "               Open          High  ...           3MA           5MA\n",
              "count   5414.000000   5414.000000  ...   5418.000000   5416.000000\n",
              "mean   23066.858146  23309.303657  ...  20212.176960  20204.083077\n",
              "std    18117.963534  18285.327998  ...  17749.315590  17730.952088\n",
              "min     2540.000000   2760.000000  ...   2164.473877   2179.989746\n",
              "25%     9920.000000  10020.000000  ...   7740.515950   7732.563330\n",
              "50%    15850.000000  16000.000000  ...  12917.547525  12902.487405\n",
              "75%    29435.000000  29740.000000  ...  24689.639320  24705.820705\n",
              "max    90300.000000  96800.000000  ...  90033.252600  89562.014060\n",
              "\n",
              "[8 rows x 8 columns]"
            ]
          },
          "metadata": {
            "tags": []
          },
          "execution_count": 4
        }
      ]
    },
    {
      "cell_type": "code",
      "metadata": {
        "colab": {
          "base_uri": "https://localhost:8080/"
        },
        "id": "kQTKDxHeXogj",
        "outputId": "c35b35fd-4b41-4e81-a3f3-737c9f3e4a8f"
      },
      "source": [
        "# 2-2 missing value 확인\n",
        "raw_df.isnull().sum()"
      ],
      "execution_count": 5,
      "outputs": [
        {
          "output_type": "execute_result",
          "data": {
            "text/plain": [
              "Date         0\n",
              "Open         6\n",
              "High         6\n",
              "Low          6\n",
              "Close        6\n",
              "Adj Close    6\n",
              "Volume       6\n",
              "3MA          2\n",
              "5MA          4\n",
              "dtype: int64"
            ]
          },
          "metadata": {
            "tags": []
          },
          "execution_count": 5
        }
      ]
    },
    {
      "cell_type": "code",
      "metadata": {
        "colab": {
          "base_uri": "https://localhost:8080/",
          "height": 234
        },
        "id": "h4QXFS-yYExE",
        "outputId": "aa62db49-eab3-4b92-a60d-26fbe6f10551"
      },
      "source": [
        "raw_df.loc[raw_df['Open'].isna()]\n",
        "# 주식과 같은 금융데이터에서 NaN으로 표시되는 missing value는 평균값이나 중간값 등으로 대체하지 않고 해당되는 행 전체를 삭제하는 것이 일반적임."
      ],
      "execution_count": 6,
      "outputs": [
        {
          "output_type": "execute_result",
          "data": {
            "text/html": [
              "<div>\n",
              "<style scoped>\n",
              "    .dataframe tbody tr th:only-of-type {\n",
              "        vertical-align: middle;\n",
              "    }\n",
              "\n",
              "    .dataframe tbody tr th {\n",
              "        vertical-align: top;\n",
              "    }\n",
              "\n",
              "    .dataframe thead th {\n",
              "        text-align: right;\n",
              "    }\n",
              "</style>\n",
              "<table border=\"1\" class=\"dataframe\">\n",
              "  <thead>\n",
              "    <tr style=\"text-align: right;\">\n",
              "      <th></th>\n",
              "      <th>Date</th>\n",
              "      <th>Open</th>\n",
              "      <th>High</th>\n",
              "      <th>Low</th>\n",
              "      <th>Close</th>\n",
              "      <th>Adj Close</th>\n",
              "      <th>Volume</th>\n",
              "      <th>3MA</th>\n",
              "      <th>5MA</th>\n",
              "    </tr>\n",
              "  </thead>\n",
              "  <tbody>\n",
              "    <tr>\n",
              "      <th>1304</th>\n",
              "      <td>2005-01-03</td>\n",
              "      <td>NaN</td>\n",
              "      <td>NaN</td>\n",
              "      <td>NaN</td>\n",
              "      <td>NaN</td>\n",
              "      <td>NaN</td>\n",
              "      <td>NaN</td>\n",
              "      <td>6989.931152</td>\n",
              "      <td>6910.412353</td>\n",
              "    </tr>\n",
              "    <tr>\n",
              "      <th>4513</th>\n",
              "      <td>2017-11-16</td>\n",
              "      <td>NaN</td>\n",
              "      <td>NaN</td>\n",
              "      <td>NaN</td>\n",
              "      <td>NaN</td>\n",
              "      <td>NaN</td>\n",
              "      <td>NaN</td>\n",
              "      <td>49382.673830</td>\n",
              "      <td>49719.997070</td>\n",
              "    </tr>\n",
              "    <tr>\n",
              "      <th>4518</th>\n",
              "      <td>2017-11-23</td>\n",
              "      <td>NaN</td>\n",
              "      <td>NaN</td>\n",
              "      <td>NaN</td>\n",
              "      <td>NaN</td>\n",
              "      <td>NaN</td>\n",
              "      <td>NaN</td>\n",
              "      <td>49373.792970</td>\n",
              "      <td>49324.969730</td>\n",
              "    </tr>\n",
              "    <tr>\n",
              "      <th>4542</th>\n",
              "      <td>2018-01-02</td>\n",
              "      <td>NaN</td>\n",
              "      <td>NaN</td>\n",
              "      <td>NaN</td>\n",
              "      <td>NaN</td>\n",
              "      <td>NaN</td>\n",
              "      <td>NaN</td>\n",
              "      <td>44927.763670</td>\n",
              "      <td>44190.302730</td>\n",
              "    </tr>\n",
              "    <tr>\n",
              "      <th>4755</th>\n",
              "      <td>2018-11-15</td>\n",
              "      <td>NaN</td>\n",
              "      <td>NaN</td>\n",
              "      <td>NaN</td>\n",
              "      <td>NaN</td>\n",
              "      <td>NaN</td>\n",
              "      <td>NaN</td>\n",
              "      <td>40569.835940</td>\n",
              "      <td>40775.886720</td>\n",
              "    </tr>\n",
              "    <tr>\n",
              "      <th>5000</th>\n",
              "      <td>2019-11-14</td>\n",
              "      <td>NaN</td>\n",
              "      <td>NaN</td>\n",
              "      <td>NaN</td>\n",
              "      <td>NaN</td>\n",
              "      <td>NaN</td>\n",
              "      <td>NaN</td>\n",
              "      <td>49695.419920</td>\n",
              "      <td>49364.432620</td>\n",
              "    </tr>\n",
              "  </tbody>\n",
              "</table>\n",
              "</div>"
            ],
            "text/plain": [
              "            Date  Open  High  ...  Volume           3MA           5MA\n",
              "1304  2005-01-03   NaN   NaN  ...     NaN   6989.931152   6910.412353\n",
              "4513  2017-11-16   NaN   NaN  ...     NaN  49382.673830  49719.997070\n",
              "4518  2017-11-23   NaN   NaN  ...     NaN  49373.792970  49324.969730\n",
              "4542  2018-01-02   NaN   NaN  ...     NaN  44927.763670  44190.302730\n",
              "4755  2018-11-15   NaN   NaN  ...     NaN  40569.835940  40775.886720\n",
              "5000  2019-11-14   NaN   NaN  ...     NaN  49695.419920  49364.432620\n",
              "\n",
              "[6 rows x 9 columns]"
            ]
          },
          "metadata": {
            "tags": []
          },
          "execution_count": 6
        }
      ]
    },
    {
      "cell_type": "code",
      "metadata": {
        "colab": {
          "base_uri": "https://localhost:8080/"
        },
        "id": "LQ8mMf3JYJqf",
        "outputId": "ac655b76-7240-4b03-82c9-6dced9bf73cc"
      },
      "source": [
        "# Volume 값 0을 NaN으로 모두 대체 (replace)\n",
        "raw_df['Volume'] = raw_df['Volume'].replace(0, np.nan)\n",
        "\n",
        "# 각 column에 0 개수 확인\n",
        "\n",
        "for col in raw_df.columns:\n",
        "  missing_rows = raw_df.loc[raw_df[col] == 0].shape[0]\n",
        "  print(col + ':' + str(missing_rows))"
      ],
      "execution_count": 7,
      "outputs": [
        {
          "output_type": "stream",
          "text": [
            "Date:0\n",
            "Open:0\n",
            "High:0\n",
            "Low:0\n",
            "Close:0\n",
            "Adj Close:0\n",
            "Volume:0\n",
            "3MA:0\n",
            "5MA:0\n"
          ],
          "name": "stdout"
        }
      ]
    },
    {
      "cell_type": "code",
      "metadata": {
        "colab": {
          "base_uri": "https://localhost:8080/"
        },
        "id": "AuGOowWxY1zi",
        "outputId": "fcd122f5-1e28-4710-ea36-edb1d036fc97"
      },
      "source": [
        "raw_df = raw_df.dropna()\n",
        "raw_df.isnull().sum()"
      ],
      "execution_count": 9,
      "outputs": [
        {
          "output_type": "execute_result",
          "data": {
            "text/plain": [
              "Date         0\n",
              "Open         0\n",
              "High         0\n",
              "Low          0\n",
              "Close        0\n",
              "Adj Close    0\n",
              "Volume       0\n",
              "3MA          0\n",
              "5MA          0\n",
              "dtype: int64"
            ]
          },
          "metadata": {
            "tags": []
          },
          "execution_count": 9
        }
      ]
    },
    {
      "cell_type": "code",
      "metadata": {
        "colab": {
          "base_uri": "https://localhost:8080/"
        },
        "id": "079JoZ4vZAr_",
        "outputId": "92eaad67-2b99-483d-b1a2-0e84a7c4bbaa"
      },
      "source": [
        "# 2-3 정규화 (normalization)\n",
        "# 날짜를 제외하고 숫자로 표현되는 모든 column을 0~1 값으로 정규화 수행함.\n",
        "\n",
        "from sklearn.preprocessing import MinMaxScaler\n",
        "\n",
        "scaler = MinMaxScaler()\n",
        "\n",
        "# 정규화 대상 column 정의\n",
        "scale_cols = ['Open', 'High', 'Low', 'Close', 'Adj Close', '3MA', '5MA', 'Volume']\n",
        "\n",
        "scaled_df = scaler.fit_transform(raw_df[scale_cols])\n",
        "\n",
        "print(type(scaled_df))\n",
        "\n",
        "# 정규화된 새로운 dataframe 생성\n",
        "scaled_df = pd.DataFrame(scaled_df, columns = scale_cols)\n",
        "\n",
        "3print(scaled_df)"
      ],
      "execution_count": 11,
      "outputs": [
        {
          "output_type": "stream",
          "text": [
            "<class 'numpy.ndarray'>\n",
            "          Open      High       Low  ...       3MA       5MA    Volume\n",
            "0     0.034868  0.032008  0.036288  ...  0.025192  0.025698  0.285359\n",
            "1     0.037375  0.035517  0.038470  ...  0.025634  0.025094  0.363715\n",
            "2     0.034982  0.031689  0.036518  ...  0.026163  0.025343  0.177799\n",
            "3     0.034868  0.031689  0.036059  ...  0.025987  0.025503  0.250704\n",
            "4     0.036235  0.033177  0.037437  ...  0.026163  0.026018  0.300555\n",
            "...        ...       ...       ...  ...       ...       ...       ...\n",
            "5289  0.872379  0.812846  0.877124  ...  0.883539  0.887577  0.079956\n",
            "5290  0.865542  0.810719  0.872531  ...  0.877470  0.885746  0.075700\n",
            "5291  0.871240  0.811782  0.873679  ...  0.872538  0.883456  0.075083\n",
            "5292  0.871240  0.819226  0.878273  ...  0.875194  0.881396  0.076688\n",
            "5293  0.879216  0.820289  0.881718  ...  0.876332  0.880251  0.054452\n",
            "\n",
            "[5294 rows x 8 columns]\n"
          ],
          "name": "stdout"
        }
      ]
    },
    {
      "cell_type": "code",
      "metadata": {
        "colab": {
          "base_uri": "https://localhost:8080/"
        },
        "id": "9n14r9gKZxS9",
        "outputId": "a566ec0b-58ad-44a5-a788-4e0217507cad"
      },
      "source": [
        "# 2-4 feature/ label 정의\n",
        "\n",
        "feature_cols = ['3MA', '5MA', 'Adj Close']\n",
        "label_cols = ['Adj Close']\n",
        "\n",
        "label_df = pd.DataFrame(scaled_df, columns = label_cols)\n",
        "feature_df = pd.DataFrame(scaled_df, columns = feature_cols)\n",
        "\n",
        "print(feature_df)\n",
        "print(label_df)\n",
        "\n",
        "label_np = label_df.to_numpy()\n",
        "feature_np = feature_df.to_numpy()"
      ],
      "execution_count": 13,
      "outputs": [
        {
          "output_type": "stream",
          "text": [
            "           3MA       5MA  Adj Close\n",
            "0     0.025192  0.025698   0.026655\n",
            "1     0.025634  0.025094   0.026655\n",
            "2     0.026163  0.025343   0.026217\n",
            "3     0.025987  0.025503   0.026129\n",
            "4     0.026163  0.026018   0.027181\n",
            "...        ...       ...        ...\n",
            "5289  0.883539  0.887577   0.868925\n",
            "5290  0.877470  0.885746   0.868925\n",
            "5291  0.872538  0.883456   0.863274\n",
            "5292  0.875194  0.881396   0.876837\n",
            "5293  0.876332  0.880251   0.872316\n",
            "\n",
            "[5294 rows x 3 columns]\n",
            "      Adj Close\n",
            "0      0.026655\n",
            "1      0.026655\n",
            "2      0.026217\n",
            "3      0.026129\n",
            "4      0.027181\n",
            "...         ...\n",
            "5289   0.868925\n",
            "5290   0.868925\n",
            "5291   0.863274\n",
            "5292   0.876837\n",
            "5293   0.872316\n",
            "\n",
            "[5294 rows x 1 columns]\n"
          ],
          "name": "stdout"
        }
      ]
    },
    {
      "cell_type": "code",
      "metadata": {
        "colab": {
          "base_uri": "https://localhost:8080/"
        },
        "id": "aX-WbNMraVDR",
        "outputId": "28f45560-8501-4345-b978-ef964dbed587"
      },
      "source": [
        "# 3. 데이터 생성\n",
        "\n",
        "window_size = 40\n",
        "\n",
        "def make_sequene_dataset(feature, label, window_size):\n",
        "  feature_list = [] # 생성될 feature list\n",
        "  label_list = [] # 생성될 label list\n",
        "\n",
        "  for i in range(len(feature)- window_size):\n",
        "    feature_list.append(feature[i:i+window_size])\n",
        "    label_list.append(label[i+window_size])\n",
        "\n",
        "  return np.array(feature_list), np.array(label_list)\n",
        "\n",
        "\n",
        "X, Y = make_sequene_dataset(feature_np, label_np, window_size)\n",
        "\n",
        "print(X.shape, Y.shape)"
      ],
      "execution_count": 14,
      "outputs": [
        {
          "output_type": "stream",
          "text": [
            "(5254, 40, 3) (5254, 1)\n"
          ],
          "name": "stdout"
        }
      ]
    },
    {
      "cell_type": "code",
      "metadata": {
        "colab": {
          "base_uri": "https://localhost:8080/"
        },
        "id": "6mJbP6jwbWrh",
        "outputId": "66d33e6a-6ecd-4d13-f1cc-e6eb7e1e3d92"
      },
      "source": [
        "# 4 훈련/테스트 데이터 분리\n",
        "\n",
        "split = -200\n",
        "\n",
        "x_train = X[0:split]\n",
        "y_train = Y[0:split]\n",
        "\n",
        "x_test = X[split:]\n",
        "y_test = Y[split:]\n",
        "\n",
        "print(x_train.shape, y_train.shape)\n",
        "print(x_test.shape, y_test.shape)"
      ],
      "execution_count": 15,
      "outputs": [
        {
          "output_type": "stream",
          "text": [
            "(5054, 40, 3) (5054, 1)\n",
            "(200, 40, 3) (200, 1)\n"
          ],
          "name": "stdout"
        }
      ]
    },
    {
      "cell_type": "code",
      "metadata": {
        "colab": {
          "base_uri": "https://localhost:8080/"
        },
        "id": "960Kf2ZjcRpk",
        "outputId": "b1d011f2-703c-4825-bf0d-f5cecd112c06"
      },
      "source": [
        "# 5. RNN model 구축\n",
        "\n",
        "model = Sequential()\n",
        "\n",
        "# LSTM에 tanh를 활성화 함수로 가지는 노드 수 128개\n",
        "# input shape = (40,3) \n",
        "model.add(LSTM(128, activation = 'tanh', input_shape = x_train[0].shape))\n",
        "\n",
        "model.add(Dense(1, activation = 'linear'))\n",
        "\n",
        "model.summary()"
      ],
      "execution_count": 16,
      "outputs": [
        {
          "output_type": "stream",
          "text": [
            "Model: \"sequential\"\n",
            "_________________________________________________________________\n",
            "Layer (type)                 Output Shape              Param #   \n",
            "=================================================================\n",
            "lstm (LSTM)                  (None, 128)               67584     \n",
            "_________________________________________________________________\n",
            "dense (Dense)                (None, 1)                 129       \n",
            "=================================================================\n",
            "Total params: 67,713\n",
            "Trainable params: 67,713\n",
            "Non-trainable params: 0\n",
            "_________________________________________________________________\n"
          ],
          "name": "stdout"
        }
      ]
    },
    {
      "cell_type": "code",
      "metadata": {
        "colab": {
          "base_uri": "https://localhost:8080/"
        },
        "id": "5Yr3ftWgcmUU",
        "outputId": "6df63ffa-ea97-4bc6-fa75-8e203bf2af9a"
      },
      "source": [
        "# 모델 컴파일 및 학슥\n",
        "\n",
        "from tensorflow.keras.callbacks import EarlyStopping\n",
        "\n",
        "model.compile(loss = 'mse', optimizer = 'adam', metrics = ['mae'])\n",
        "\n",
        "early_stop = EarlyStopping(monitor = 'val_loss', patience = 5)\n",
        "\n",
        "model.fit(x_train, y_train, validation_data = (x_test, y_test), epochs = 100, batch_size = 16, callbacks= [early_stop])"
      ],
      "execution_count": 17,
      "outputs": [
        {
          "output_type": "stream",
          "text": [
            "Epoch 1/100\n",
            "316/316 [==============================] - 13s 35ms/step - loss: 8.6277e-04 - mae: 0.0114 - val_loss: 9.8037e-04 - val_mae: 0.0200\n",
            "Epoch 2/100\n",
            "316/316 [==============================] - 11s 34ms/step - loss: 9.8734e-05 - mae: 0.0064 - val_loss: 7.7793e-04 - val_mae: 0.0176\n",
            "Epoch 3/100\n",
            "316/316 [==============================] - 11s 34ms/step - loss: 9.1560e-05 - mae: 0.0062 - val_loss: 0.0014 - val_mae: 0.0308\n",
            "Epoch 4/100\n",
            "316/316 [==============================] - 11s 33ms/step - loss: 7.7823e-05 - mae: 0.0057 - val_loss: 5.5463e-04 - val_mae: 0.0157\n",
            "Epoch 5/100\n",
            "316/316 [==============================] - 11s 34ms/step - loss: 7.6134e-05 - mae: 0.0057 - val_loss: 5.9865e-04 - val_mae: 0.0163\n",
            "Epoch 6/100\n",
            "316/316 [==============================] - 11s 34ms/step - loss: 6.9666e-05 - mae: 0.0054 - val_loss: 6.9804e-04 - val_mae: 0.0194\n",
            "Epoch 7/100\n",
            "316/316 [==============================] - 11s 34ms/step - loss: 7.2527e-05 - mae: 0.0056 - val_loss: 8.0334e-04 - val_mae: 0.0225\n",
            "Epoch 8/100\n",
            "316/316 [==============================] - 11s 34ms/step - loss: 5.8588e-05 - mae: 0.0051 - val_loss: 3.4128e-04 - val_mae: 0.0130\n",
            "Epoch 9/100\n",
            "316/316 [==============================] - 11s 34ms/step - loss: 5.8581e-05 - mae: 0.0050 - val_loss: 3.3607e-04 - val_mae: 0.0136\n",
            "Epoch 10/100\n",
            "316/316 [==============================] - 11s 34ms/step - loss: 5.5003e-05 - mae: 0.0049 - val_loss: 3.1198e-04 - val_mae: 0.0132\n",
            "Epoch 11/100\n",
            "316/316 [==============================] - 11s 34ms/step - loss: 4.9017e-05 - mae: 0.0047 - val_loss: 3.1634e-04 - val_mae: 0.0123\n",
            "Epoch 12/100\n",
            "316/316 [==============================] - 11s 34ms/step - loss: 4.4508e-05 - mae: 0.0045 - val_loss: 0.0018 - val_mae: 0.0387\n",
            "Epoch 13/100\n",
            "316/316 [==============================] - 11s 34ms/step - loss: 4.3968e-05 - mae: 0.0045 - val_loss: 2.7374e-04 - val_mae: 0.0114\n",
            "Epoch 14/100\n",
            "316/316 [==============================] - 11s 34ms/step - loss: 4.0623e-05 - mae: 0.0043 - val_loss: 2.5662e-04 - val_mae: 0.0111\n",
            "Epoch 15/100\n",
            "316/316 [==============================] - 11s 34ms/step - loss: 4.0031e-05 - mae: 0.0042 - val_loss: 2.3014e-04 - val_mae: 0.0105\n",
            "Epoch 16/100\n",
            "316/316 [==============================] - 11s 34ms/step - loss: 3.4744e-05 - mae: 0.0039 - val_loss: 2.0391e-04 - val_mae: 0.0106\n",
            "Epoch 17/100\n",
            "316/316 [==============================] - 11s 34ms/step - loss: 4.1865e-05 - mae: 0.0044 - val_loss: 1.9060e-04 - val_mae: 0.0100\n",
            "Epoch 18/100\n",
            "316/316 [==============================] - 11s 34ms/step - loss: 3.1978e-05 - mae: 0.0038 - val_loss: 1.8570e-04 - val_mae: 0.0099\n",
            "Epoch 19/100\n",
            "316/316 [==============================] - 11s 34ms/step - loss: 3.0387e-05 - mae: 0.0037 - val_loss: 1.8128e-04 - val_mae: 0.0096\n",
            "Epoch 20/100\n",
            "316/316 [==============================] - 11s 34ms/step - loss: 2.9666e-05 - mae: 0.0037 - val_loss: 2.5499e-04 - val_mae: 0.0117\n",
            "Epoch 21/100\n",
            "316/316 [==============================] - 11s 34ms/step - loss: 3.1436e-05 - mae: 0.0038 - val_loss: 1.7802e-04 - val_mae: 0.0096\n",
            "Epoch 22/100\n",
            "316/316 [==============================] - 11s 34ms/step - loss: 2.7942e-05 - mae: 0.0036 - val_loss: 3.7891e-04 - val_mae: 0.0154\n",
            "Epoch 23/100\n",
            "316/316 [==============================] - 11s 34ms/step - loss: 3.4080e-05 - mae: 0.0039 - val_loss: 1.8336e-04 - val_mae: 0.0102\n",
            "Epoch 24/100\n",
            "316/316 [==============================] - 11s 34ms/step - loss: 2.5729e-05 - mae: 0.0034 - val_loss: 1.8183e-04 - val_mae: 0.0101\n",
            "Epoch 25/100\n",
            "316/316 [==============================] - 11s 34ms/step - loss: 2.7972e-05 - mae: 0.0035 - val_loss: 1.7630e-04 - val_mae: 0.0098\n",
            "Epoch 26/100\n",
            "316/316 [==============================] - 11s 34ms/step - loss: 2.5553e-05 - mae: 0.0034 - val_loss: 2.1933e-04 - val_mae: 0.0106\n",
            "Epoch 27/100\n",
            "316/316 [==============================] - 11s 34ms/step - loss: 2.6431e-05 - mae: 0.0034 - val_loss: 1.8055e-04 - val_mae: 0.0095\n",
            "Epoch 28/100\n",
            "316/316 [==============================] - 11s 35ms/step - loss: 2.8513e-05 - mae: 0.0036 - val_loss: 1.7642e-04 - val_mae: 0.0097\n",
            "Epoch 29/100\n",
            "316/316 [==============================] - 11s 34ms/step - loss: 2.6581e-05 - mae: 0.0035 - val_loss: 1.7721e-04 - val_mae: 0.0095\n",
            "Epoch 30/100\n",
            "316/316 [==============================] - 11s 34ms/step - loss: 2.7195e-05 - mae: 0.0035 - val_loss: 2.2561e-04 - val_mae: 0.0109\n"
          ],
          "name": "stdout"
        },
        {
          "output_type": "execute_result",
          "data": {
            "text/plain": [
              "<tensorflow.python.keras.callbacks.History at 0x7fe999f74e50>"
            ]
          },
          "metadata": {
            "tags": []
          },
          "execution_count": 17
        }
      ]
    },
    {
      "cell_type": "code",
      "metadata": {
        "colab": {
          "base_uri": "https://localhost:8080/",
          "height": 545
        },
        "id": "F6RIvlK0dQYQ",
        "outputId": "f7996611-7433-4b7e-c363-2b52643fce58"
      },
      "source": [
        "pred = model.predict(x_test)\n",
        "\n",
        "plt.figure(figsize = (12,6))\n",
        "plt.title('3MA + 5MA + Adj Close, window_size = 40')\n",
        "plt.ylabel('adj close (종가)')\n",
        "plt.xlabel('period')\n",
        "plt.plot(y_test, label = 'actual')\n",
        "plt.plot(pred, label = 'prediction')\n",
        "plt.grid()\n",
        "plt.legend(loc = 'best')\n",
        "\n",
        "plt.show()"
      ],
      "execution_count": 18,
      "outputs": [
        {
          "output_type": "stream",
          "text": [
            "/usr/local/lib/python3.7/dist-packages/matplotlib/backends/backend_agg.py:214: RuntimeWarning: Glyph 51333 missing from current font.\n",
            "  font.set_text(s, 0.0, flags=flags)\n",
            "/usr/local/lib/python3.7/dist-packages/matplotlib/backends/backend_agg.py:214: RuntimeWarning: Glyph 44032 missing from current font.\n",
            "  font.set_text(s, 0.0, flags=flags)\n",
            "/usr/local/lib/python3.7/dist-packages/matplotlib/backends/backend_agg.py:183: RuntimeWarning: Glyph 51333 missing from current font.\n",
            "  font.set_text(s, 0, flags=flags)\n",
            "/usr/local/lib/python3.7/dist-packages/matplotlib/backends/backend_agg.py:183: RuntimeWarning: Glyph 44032 missing from current font.\n",
            "  font.set_text(s, 0, flags=flags)\n"
          ],
          "name": "stderr"
        },
        {
          "output_type": "display_data",
          "data": {
            "image/png": "[encoded data removed]",
            "text/plain": [
              "<Figure size 864x432 with 1 Axes>"
            ]
          },
          "metadata": {
            "tags": [],
            "needs_background": "light"
          }
        }
      ]
    },
    {
      "cell_type": "code",
      "metadata": {
        "id": "w6JSXzchgVrL"
      },
      "source": [
        ""
      ],
      "execution_count": null,
      "outputs": []
    }
  ]
}