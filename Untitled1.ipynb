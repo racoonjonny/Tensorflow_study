{
  "nbformat": 4,
  "nbformat_minor": 0,
  "metadata": {
    "colab": {
      "name": "Untitled1.ipynb",
      "provenance": [],
      "authorship_tag": "ABX9TyPYTFlS5dkvPIpftuVxzmOW",
      "include_colab_link": true
    },
    "kernelspec": {
      "name": "python3",
      "display_name": "Python 3"
    },
    "language_info": {
      "name": "python"
    }
  },
  "cells": [
    {
      "cell_type": "markdown",
      "metadata": {
        "id": "view-in-github",
        "colab_type": "text"
      },
      "source": [
        "<a href=\"https://colab.research.google.com/github/racoonjonny/Tensorflow_study/blob/main/Untitled1.ipynb\" target=\"_parent\"><img src=\"https://colab.research.google.com/assets/colab-badge.svg\" alt=\"Open In Colab\"/></a>"
      ]
    },
    {
      "cell_type": "code",
      "metadata": {
        "colab": {
          "base_uri": "https://localhost:8080/"
        },
        "id": "Rwt6_a2wqBCe",
        "outputId": "ec67f152-5564-49e8-e817-d538272afe06"
      },
      "source": [
        "!git clone https://github.com/racoonjonny/Tensorflow_study.git"
      ],
      "execution_count": 11,
      "outputs": [
        {
          "output_type": "stream",
          "text": [
            "Cloning into 'Tensorflow_study'...\n",
            "warning: You appear to have cloned an empty repository.\n"
          ],
          "name": "stdout"
        }
      ]
    },
    {
      "cell_type": "code",
      "metadata": {
        "id": "B3sy1NYWsosE",
        "colab": {
          "base_uri": "https://localhost:8080/"
        },
        "outputId": "c8895eca-1686-4b47-944d-5b70e24c64c9"
      },
      "source": [
        "!ls -ltr"
      ],
      "execution_count": 12,
      "outputs": [
        {
          "output_type": "stream",
          "text": [
            "total 20\n",
            "drwxr-xr-x 1 root root 4096 Jun 15 13:37  sample_data\n",
            "-rw-r--r-- 1 root root  234 Jul  5 12:41  zumba.py\n",
            "-rw-r--r-- 1 root root  234 Jul  5 12:41 'zumba (1).py'\n",
            "drwxr-xr-x 4 root root 4096 Jul  5 12:44  hands_on_ML_record\n",
            "drwxr-xr-x 3 root root 4096 Jul  5 12:48  Tensorflow_study\n"
          ],
          "name": "stdout"
        }
      ]
    }
  ]
}