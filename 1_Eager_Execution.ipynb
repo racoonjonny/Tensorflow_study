{
  "nbformat": 4,
  "nbformat_minor": 0,
  "metadata": {
    "colab": {
      "name": "1_Eager Execution.ipynb",
      "provenance": [],
      "authorship_tag": "ABX9TyMbCu1cZFsr+ctSmvwxRvjW",
      "include_colab_link": true
    },
    "kernelspec": {
      "name": "python3",
      "display_name": "Python 3"
    },
    "language_info": {
      "name": "python"
    }
  },
  "cells": [
    {
      "cell_type": "markdown",
      "metadata": {
        "id": "view-in-github",
        "colab_type": "text"
      },
      "source": [
        "<a href=\"https://colab.research.google.com/github/racoonjonny/Tensorflow_study/blob/main/1_Eager_Execution.ipynb\" target=\"_parent\"><img src=\"https://colab.research.google.com/assets/colab-badge.svg\" alt=\"Open In Colab\"/></a>"
      ]
    },
    {
      "cell_type": "code",
      "metadata": {
        "id": "lvc53biDvn1i"
      },
      "source": [
        "# Eager Execution\n",
        "# TensorFlow 1.x 에서는 계산 그래프를 선언하고, 세션을 통해 텐서를 주고받으며 계산하는 귀찮은 작업이 있었음.\n",
        "# TensorFlow 2.x 에서는 자동으로 계산이 적용되기때문에 파이썬처럼 자유롭게 사용할 수 있다. (numpy 변환도 자유로움)"
      ],
      "execution_count": 1,
      "outputs": []
    },
    {
      "cell_type": "code",
      "metadata": {
        "colab": {
          "base_uri": "https://localhost:8080/"
        },
        "id": "kjKjhg8JwIlC",
        "outputId": "47c7384b-2de9-4e7b-86fb-8425df95f709"
      },
      "source": [
        "# example\n",
        "import tensorflow as tf\n",
        "\n",
        "# 마치 파이썬 기본적인 연산처럼 수행할 수 있음.\n",
        "a = tf.constant(1.0)\n",
        "b = tf.constant(2.0)\n",
        "\n",
        "c = a + b\n",
        "print(c.numpy()) "
      ],
      "execution_count": 5,
      "outputs": [
        {
          "output_type": "stream",
          "text": [
            "3.0\n"
          ],
          "name": "stdout"
        }
      ]
    },
    {
      "cell_type": "code",
      "metadata": {
        "colab": {
          "base_uri": "https://localhost:8080/"
        },
        "id": "BlwewgyhwVf-",
        "outputId": "2ef9e3f9-a076-45e2-bc13-a94b26291340"
      },
      "source": [
        "# Tensorflow 2.x 의 변수 type\n",
        "W = tf.Variable(tf.random.normal([1])) # 가우시안 분포\n",
        "print('initial W = ', W.numpy())\n",
        "print('============================')\n",
        "\n",
        "for step in range(2):\n",
        "  W = W + 1.0\n",
        "  print('step = ', step, ', W = ', W.numpy())"
      ],
      "execution_count": 6,
      "outputs": [
        {
          "output_type": "stream",
          "text": [
            "initial W =  [0.23770334]\n",
            "============================\n",
            "step =  0 , W =  [1.2377033]\n",
            "step =  1 , W =  [2.2377033]\n"
          ],
          "name": "stdout"
        }
      ]
    },
    {
      "cell_type": "code",
      "metadata": {
        "colab": {
          "base_uri": "https://localhost:8080/"
        },
        "id": "F0N87xx70fyy",
        "outputId": "e86a4d22-e40b-4868-a7ba-210be0e19893"
      },
      "source": [
        "# Placeholder가 사라짐\n",
        "def tensor_sum(x,y):\n",
        "  return x+y\n",
        "\n",
        "result = tensor_sum(a,b)\n",
        "\n",
        "print(type(result))\n",
        "print(result.numpy())\n"
      ],
      "execution_count": 7,
      "outputs": [
        {
          "output_type": "stream",
          "text": [
            "<class 'tensorflow.python.framework.ops.EagerTensor'>\n",
            "3.0\n"
          ],
          "name": "stdout"
        }
      ]
    },
    {
      "cell_type": "code",
      "metadata": {
        "id": "7YmFT2fA0sBI"
      },
      "source": [
        "# Tensorflow를 편하게 사용할 수 있게 하기 위해서 라이브러리 개선에 많은 공을 들인게 느껴진다.\n",
        "# + Tensorflow가 머신러닝/딥러닝 라이브러리 1위를 계속 유지할 것 같다."
      ],
      "execution_count": 8,
      "outputs": []
    },
    {
      "cell_type": "code",
      "metadata": {
        "id": "LBvd9TP603RE"
      },
      "source": [
        ""
      ],
      "execution_count": null,
      "outputs": []
    }
  ]
}