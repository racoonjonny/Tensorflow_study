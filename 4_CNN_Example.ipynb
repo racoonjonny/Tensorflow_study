{
  "nbformat": 4,
  "nbformat_minor": 0,
  "metadata": {
    "colab": {
      "name": "4_CNN_Example.ipynb",
      "provenance": [],
      "collapsed_sections": [],
      "authorship_tag": "ABX9TyNgprtgcCI0ov6OGZoP2VdE",
      "include_colab_link": true
    },
    "kernelspec": {
      "name": "python3",
      "display_name": "Python 3"
    },
    "language_info": {
      "name": "python"
    }
  },
  "cells": [
    {
      "cell_type": "markdown",
      "metadata": {
        "id": "view-in-github",
        "colab_type": "text"
      },
      "source": [
        "<a href=\"https://colab.research.google.com/github/racoonjonny/Tensorflow_study/blob/main/4_CNN_Example.ipynb\" target=\"_parent\"><img src=\"https://colab.research.google.com/assets/colab-badge.svg\" alt=\"Open In Colab\"/></a>"
      ]
    },
    {
      "cell_type": "code",
      "metadata": {
        "id": "BRy7-EJKzKpR"
      },
      "source": [
        "# CNN은 특징 추출기와 분류기가 합쳐져 있는 형태임\n",
        "# 특징 추줄기 : 컨볼루션 레이여, 풀링 레이어 등. 이미지 데이터의 특징을 추출하고 압축\n",
        "# 분류기 : Dense와 Dropout 레이어 등. 정답을 분류하는 역할을 수행함.\n",
        "\n"
      ],
      "execution_count": 3,
      "outputs": []
    },
    {
      "cell_type": "code",
      "metadata": {
        "colab": {
          "base_uri": "https://localhost:8080/"
        },
        "id": "m-05uKCy09eX",
        "outputId": "ace7a4f9-705d-497c-a633-3aa44ad097d2"
      },
      "source": [
        "# mnist 데이터 불러오기 및 정규화\n",
        "\n",
        "import numpy as np\n",
        "import tensorflow as tf\n",
        "from tensorflow.keras.datasets import mnist\n",
        "from tensorflow.keras.models import Sequential\n",
        "from tensorflow.keras.layers import Conv2D, MaxPool2D\n",
        "from tensorflow.keras.layers import Flatten, Dense, Dropout\n",
        "\n",
        "# 데이터 불러오기\n",
        "(x_train, y_train), (x_test, y_test) = mnist.load_data()\n",
        "\n",
        "# 텐서로 변환 (높이, 너비, 채널)\n",
        "x_train = x_train.reshape(-1, 28, 28, 1)\n",
        "x_test = x_test.reshape(-1, 28, 28, 1)\n",
        "\n",
        "print(x_train.shape, x_test.shape)\n",
        "print(y_train.shape, y_test.shape)\n",
        "\n",
        "# 정규화 (Normalization)\n",
        "x_train = x_train.astype(np.float32)/255.0\n",
        "x_test = x_test.astype(np.float32)/255.0"
      ],
      "execution_count": 4,
      "outputs": [
        {
          "output_type": "stream",
          "text": [
            "Downloading data from https://storage.googleapis.com/tensorflow/tf-keras-datasets/mnist.npz\n",
            "11493376/11490434 [==============================] - 0s 0us/step\n",
            "(60000, 28, 28, 1) (10000, 28, 28, 1)\n",
            "(60000,) (10000,)\n"
          ],
          "name": "stdout"
        }
      ]
    },
    {
      "cell_type": "code",
      "metadata": {
        "id": "ToxWO3401ps6",
        "colab": {
          "base_uri": "https://localhost:8080/"
        },
        "outputId": "726cf3b4-22ba-4d63-86ab-857560ef0e5e"
      },
      "source": [
        "# CNN 모델 구축\n",
        "\n",
        "# 모델 생성\n",
        "cnn = Sequential()\n",
        "\n",
        "# layer 추가\n",
        "cnn.add(Conv2D(input_shape = (28,28,1), kernel_size=(3,3), filters= 32, activation= 'relu'))\n",
        "cnn.add(Conv2D( kernel_size=(3,3), filters= 64, activation= 'relu'))\n",
        "cnn.add(MaxPool2D(pool_size= (2,2)))\n",
        "cnn.add(Dropout(0.25))\n",
        "\n",
        "cnn.add(Flatten()) # 3차원 텐서를 1차원 텐서로 변환\n",
        "\n",
        "cnn.add(Dense(128, activation= 'relu')) \n",
        "cnn.add(Dropout(0.5))\n",
        "cnn.add(Dense(10, activation= 'softmax'))\n",
        "\n",
        "cnn.summary()"
      ],
      "execution_count": 5,
      "outputs": [
        {
          "output_type": "stream",
          "text": [
            "Model: \"sequential\"\n",
            "_________________________________________________________________\n",
            "Layer (type)                 Output Shape              Param #   \n",
            "=================================================================\n",
            "conv2d (Conv2D)              (None, 26, 26, 32)        320       \n",
            "_________________________________________________________________\n",
            "conv2d_1 (Conv2D)            (None, 24, 24, 64)        18496     \n",
            "_________________________________________________________________\n",
            "max_pooling2d (MaxPooling2D) (None, 12, 12, 64)        0         \n",
            "_________________________________________________________________\n",
            "dropout (Dropout)            (None, 12, 12, 64)        0         \n",
            "_________________________________________________________________\n",
            "flatten (Flatten)            (None, 9216)              0         \n",
            "_________________________________________________________________\n",
            "dense (Dense)                (None, 128)               1179776   \n",
            "_________________________________________________________________\n",
            "dropout_1 (Dropout)          (None, 128)               0         \n",
            "_________________________________________________________________\n",
            "dense_1 (Dense)              (None, 10)                1290      \n",
            "=================================================================\n",
            "Total params: 1,199,882\n",
            "Trainable params: 1,199,882\n",
            "Non-trainable params: 0\n",
            "_________________________________________________________________\n"
          ],
          "name": "stdout"
        }
      ]
    },
    {
      "cell_type": "code",
      "metadata": {
        "id": "GP9aXWZD2Vjk",
        "colab": {
          "base_uri": "https://localhost:8080/"
        },
        "outputId": "960eefd8-8d13-4b84-ed3a-4d4b52af1722"
      },
      "source": [
        "# 모델 컴파일 및 학습\n",
        "cnn.compile(loss = 'sparse_categorical_crossentropy', optimizer = tf.keras.optimizers.Adam(), metrics = ['accuracy'])\n",
        "\n",
        "hist = cnn.fit(x_train, y_train, batch_size= 128, epochs = 10, validation_data= (x_test, y_test))"
      ],
      "execution_count": 6,
      "outputs": [
        {
          "output_type": "stream",
          "text": [
            "Epoch 1/10\n",
            "469/469 [==============================] - 147s 312ms/step - loss: 0.2495 - accuracy: 0.9237 - val_loss: 0.0510 - val_accuracy: 0.9828\n",
            "Epoch 2/10\n",
            "469/469 [==============================] - 145s 310ms/step - loss: 0.0869 - accuracy: 0.9742 - val_loss: 0.0354 - val_accuracy: 0.9883\n",
            "Epoch 3/10\n",
            "469/469 [==============================] - 145s 310ms/step - loss: 0.0635 - accuracy: 0.9810 - val_loss: 0.0353 - val_accuracy: 0.9878\n",
            "Epoch 4/10\n",
            "469/469 [==============================] - 146s 311ms/step - loss: 0.0536 - accuracy: 0.9830 - val_loss: 0.0332 - val_accuracy: 0.9894\n",
            "Epoch 5/10\n",
            "469/469 [==============================] - 145s 310ms/step - loss: 0.0465 - accuracy: 0.9853 - val_loss: 0.0305 - val_accuracy: 0.9900\n",
            "Epoch 6/10\n",
            "469/469 [==============================] - 145s 310ms/step - loss: 0.0373 - accuracy: 0.9883 - val_loss: 0.0271 - val_accuracy: 0.9911\n",
            "Epoch 7/10\n",
            "469/469 [==============================] - 145s 310ms/step - loss: 0.0355 - accuracy: 0.9890 - val_loss: 0.0253 - val_accuracy: 0.9921\n",
            "Epoch 8/10\n",
            "469/469 [==============================] - 145s 310ms/step - loss: 0.0308 - accuracy: 0.9902 - val_loss: 0.0245 - val_accuracy: 0.9918\n",
            "Epoch 9/10\n",
            "469/469 [==============================] - 145s 309ms/step - loss: 0.0292 - accuracy: 0.9905 - val_loss: 0.0296 - val_accuracy: 0.9911\n",
            "Epoch 10/10\n",
            "469/469 [==============================] - 145s 310ms/step - loss: 0.0251 - accuracy: 0.9916 - val_loss: 0.0268 - val_accuracy: 0.9925\n"
          ],
          "name": "stdout"
        }
      ]
    },
    {
      "cell_type": "code",
      "metadata": {
        "id": "7_ncwRyO2YyI",
        "colab": {
          "base_uri": "https://localhost:8080/",
          "height": 573
        },
        "outputId": "64010413-11ce-429c-9718-6857586f846e"
      },
      "source": [
        "# 정확도 및 손실\n",
        "import matplotlib.pyplot as plt\n",
        "\n",
        "plt.plot(hist.history['accuracy'])\n",
        "plt.plot(hist.history['val_accuracy'])\n",
        "plt.title('Accuracy Trend')\n",
        "plt.ylabel('accuracy')\n",
        "plt.xlabel('epochs')\n",
        "plt.legend(['train', 'validation'], loc = 'best')\n",
        "plt.grid()\n",
        "plt.show()\n",
        "\n",
        "plt.plot(hist.history['loss'])\n",
        "plt.plot(hist.history['val_loss'])\n",
        "plt.title('Loss Trend')\n",
        "plt.ylabel('loss')\n",
        "plt.xlabel('epoch')\n",
        "plt.legend(['train','validation'],loc = 'best')\n",
        "plt.grid()\n",
        "plt.show()"
      ],
      "execution_count": 7,
      "outputs": [
        {
          "output_type": "display_data",
          "data": {
            "image/png": "[encoded data removed]",
            "text/plain": [
              "<Figure size 432x288 with 1 Axes>"
            ]
          },
          "metadata": {
            "tags": [],
            "needs_background": "light"
          }
        },
        {
          "output_type": "display_data",
          "data": {
            "image/png": "[encoded data removed]",
            "text/plain": [
              "<Figure size 432x288 with 1 Axes>"
            ]
          },
          "metadata": {
            "tags": [],
            "needs_background": "light"
          }
        }
      ]
    },
    {
      "cell_type": "code",
      "metadata": {
        "id": "xf7AhR5KPJRp"
      },
      "source": [
        ""
      ],
      "execution_count": null,
      "outputs": []
    }
  ]
}